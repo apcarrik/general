{
 "cells": [
  {
   "cell_type": "markdown",
   "id": "27d4d699",
   "metadata": {},
   "source": [
    "# 1"
   ]
  },
  {
   "cell_type": "markdown",
   "id": "dea2695c",
   "metadata": {},
   "source": [
    "## c)"
   ]
  },
  {
   "cell_type": "code",
   "execution_count": 43,
   "id": "fbb84dbd",
   "metadata": {},
   "outputs": [
    {
     "name": "stdout",
     "output_type": "stream",
     "text": [
      "\n",
      "\n",
      "Iteration 0\n",
      "Generators: ('X', 'Y', 'Z')\n",
      "Elements: {'Z', '-iZ', '-iX', 'X', 'iZ', '-iY', 'Y', 'iY', 'I', 'iX'}\n",
      "\n",
      "\n",
      "Iteration 1\n",
      "Generators: ('X', 'Y', 'Z')\n",
      "Elements: {'-iI', 'iI', 'Z', '-iZ', '-iX', 'X', 'iZ', '-iY', '-Z', 'Y', 'iY', '-X', '-Y', 'I', 'iX'}\n",
      "\n",
      "\n",
      "Iteration 2\n",
      "Generators: ('X', 'Y', 'Z')\n",
      "Elements: {'-iI', 'iI', 'Z', '-iZ', '-iX', 'X', 'iZ', '-I', '-iY', '-Z', 'Y', 'iY', '-X', '-Y', 'I', 'iX'}\n",
      "\n",
      "\n",
      "Iteration 3\n",
      "Generators: ('X', 'Y', 'Z')\n",
      "Elements: {'-iI', 'iI', 'Z', '-iZ', '-iX', 'X', 'iZ', '-I', '-iY', '-Z', 'Y', 'iY', '-X', '-Y', 'I', 'iX'}\n",
      "\n",
      "\n",
      "Iteration 4\n",
      "Generators: ('X', 'Y', 'Z')\n",
      "Elements: {'-iI', 'iI', 'Z', '-iZ', '-iX', 'X', 'iZ', '-I', '-iY', '-Z', 'Y', 'iY', '-X', '-Y', 'I', 'iX'}\n"
     ]
    }
   ],
   "source": [
    "import numpy as np\n",
    "import cmath\n",
    "\n",
    "def check_if_array_in_list(a, l):\n",
    "    for b in l:\n",
    "        if np.array_equal(a, b): return True\n",
    "    return False\n",
    "\n",
    "def return_array_position_in_list(a, l):  \n",
    "    i=0\n",
    "    for b in l:\n",
    "        if np.array_equal(a, b): return i\n",
    "        i+=1\n",
    "    return -1\n",
    "\n",
    "\n",
    "if( __name__ == \"__main__\"):\n",
    "\n",
    "    I=np.array([[1,0],[0,1]], dtype=complex)\n",
    "    X=np.array([[0,1], [1,0]], dtype = complex)\n",
    "    Y=np.array([[0,-1j], [1j,0]], dtype = complex)\n",
    "    Z=np.array([[1,0], [0,-1]], dtype = complex)\n",
    "    iI=np.dot(1j,I)\n",
    "    iX=np.dot(1j,X)\n",
    "    iY=np.dot(1j,Y)\n",
    "    iZ=np.dot(1j,Z)\n",
    "\n",
    "    possible_elements = {\"I\":I, \"-I\":-I, \"X\":X, \"-X\":-X, \"Y\":Y, \"-Y\":-Y, \"Z\":Z,\\\n",
    "                         \"-Z\":-Z, \"iI\":iI, \"-iI\":-iI, \"iX\":iX, \"-iX\":-iX,\\\n",
    "                         \"iY\":iY, \"-iY\":-iY, \"iZ\":iZ, \"-iZ\":-iZ}\n",
    "    pe_keys = list(possible_elements.keys())\n",
    "    pe_values = list(possible_elements.values())\n",
    "    generators = (\"X\",\"Y\",\"Z\")\n",
    "    elements = {\"I\",\"X\",\"Y\",\"Z\"}\n",
    "    new_elements = []\n",
    "    unknown_elements = {}\n",
    "    \n",
    "    for i in range(0,5):\n",
    "        print(f\"\\n\\nIteration {i}\")\n",
    "        for generator in generators:\n",
    "            for element in elements:\n",
    "                new_element = np.matmul(possible_elements[generator],possible_elements[element])\n",
    "                new_element_position = return_array_position_in_list(new_element, pe_values) \n",
    "                if new_element_position == -1:\n",
    "                    new_unknown_element_index = f\"unknown_{len(list(unknown_elements.keys())) + 1}\"\n",
    "                    unknown_elements[new_unknown_element_index] = new_element\n",
    "                    possible_elements[new_unknown_element_index] = new_element\n",
    "                    pe_keys = list(possible_elements.keys())\n",
    "                    pe_values = list(possible_elements.values())\n",
    "                    new_elements.append(new_unknown_element_index)\n",
    "                else:\n",
    "                    new_elements.append(pe_keys[new_element_position])\n",
    "        elements.update(new_elements)\n",
    "        print(f\"Generators: {generators}\")\n",
    "        print(f\"Elements: {elements}\")\n",
    "\n",
    "    "
   ]
  },
  {
   "cell_type": "code",
   "execution_count": null,
   "id": "901fca76",
   "metadata": {},
   "outputs": [],
   "source": []
  }
 ],
 "metadata": {
  "kernelspec": {
   "display_name": "Python 3 (ipykernel)",
   "language": "python",
   "name": "python3"
  },
  "language_info": {
   "codemirror_mode": {
    "name": "ipython",
    "version": 3
   },
   "file_extension": ".py",
   "mimetype": "text/x-python",
   "name": "python",
   "nbconvert_exporter": "python",
   "pygments_lexer": "ipython3",
   "version": "3.8.2"
  }
 },
 "nbformat": 4,
 "nbformat_minor": 5
}
