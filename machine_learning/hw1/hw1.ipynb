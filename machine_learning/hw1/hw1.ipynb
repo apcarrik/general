{
 "cells": [
  {
   "cell_type": "code",
   "execution_count": 5,
   "id": "3a13878c-df3c-43b1-b740-6c4348ffd4dd",
   "metadata": {},
   "outputs": [],
   "source": [
    "import sys\n",
    "!conda install --yes --prefix {sys.prefix} numpy"
   ]
  },
  {
   "cell_type": "code",
   "execution_count": 14,
   "id": "b301642e-d02a-4077-908a-c26de14a5fd0",
   "metadata": {},
   "outputs": [],
   "source": [
    "# open csv, save data into vectors\n",
    "import csv\n",
    "import numpy as np\n",
    "with open('q2.csv', newline=\"\") as csvfile:\n",
    "    filereader = csv.reader(csvfile, delimiter=',')\n",
    "    data = []\n",
    "    headers = next(filereader)\n",
    "    for row in filereader:\n",
    "        data.append(np.array(row,dtype='int'))"
   ]
  },
  {
   "cell_type": "code",
   "execution_count": 18,
   "id": "3436fd23-6c5e-4255-86fa-f40e258dfc3b",
   "metadata": {},
   "outputs": [
    {
     "name": "stdout",
     "output_type": "stream",
     "text": [
      "gx= [-1.7, 0.7, 3.55, 1.1, 0.6500000000000001, -1.65, -1.5499999999999998, 0.55, 3.65, -1.8499999999999999]\n",
      "Y=0 [-1.7, 0.7, 0.6500000000000001, -1.65, 0.55, -1.8499999999999999]\n",
      "Y=1 [3.55, 1.1, -1.5499999999999998, 3.65]\n"
     ]
    }
   ],
   "source": [
    "# (a) calculate the value of g(x) for each data point\n",
    "theta = np.array([0.05,-3.0, 2.5])\n",
    "theta = np.transpose(theta)\n",
    "theta_naut = 0.3\n",
    "\n",
    "gx=[]\n",
    "for d in data:\n",
    "    gx.append(theta @ d[0:3] + theta_naut)\n",
    "print('gx=', gx)\n",
    "y0=[]\n",
    "y1=[]\n",
    "for i in range(0,len(gx)):\n",
    "    if data[i][3] == 0:\n",
    "        y0.append(gx[i])\n",
    "    else:\n",
    "        y1.append(gx[i])\n",
    "print('Y=0', y0)\n",
    "print('Y=1', y1)\n",
    "\n",
    "# threshold value of 0.7<gx<1.1 would minimize misclassification\n",
    "threshold = 1\n",
    "#TODO: get stats like TP, FP, TN, FN\n",
    "# TP = sum(map(lambda x : x%2 == 1, listOfElems))\n",
    "        \n"
   ]
  },
  {
   "cell_type": "code",
   "execution_count": null,
   "id": "b6c34a1d-f32a-4937-8ecf-978a8dcd2744",
   "metadata": {},
   "outputs": [],
   "source": []
  }
 ],
 "metadata": {
  "kernelspec": {
   "display_name": "Python 3 (ipykernel)",
   "language": "python",
   "name": "python3"
  },
  "language_info": {
   "codemirror_mode": {
    "name": "ipython",
    "version": 3
   },
   "file_extension": ".py",
   "mimetype": "text/x-python",
   "name": "python",
   "nbconvert_exporter": "python",
   "pygments_lexer": "ipython3",
   "version": "3.9.6"
  }
 },
 "nbformat": 4,
 "nbformat_minor": 5
}
