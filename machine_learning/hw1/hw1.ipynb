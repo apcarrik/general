{
 "cells": [
  {
   "cell_type": "code",
   "execution_count": 5,
   "id": "3a13878c-df3c-43b1-b740-6c4348ffd4dd",
   "metadata": {},
   "outputs": [],
   "source": [
    "import sys\n",
    "!conda install --yes --prefix {sys.prefix} numpy"
   ]
  },
  {
   "cell_type": "code",
   "execution_count": 6,
   "id": "b301642e-d02a-4077-908a-c26de14a5fd0",
   "metadata": {},
   "outputs": [
    {
     "name": "stdout",
     "output_type": "stream",
     "text": [
      "[array(['age', 'course', 'likeStats', 'Y'], dtype='<U9'), array(['20', '1', '0', '0'], dtype='<U2'), array(['18', '1', '1', '0'], dtype='<U2'), array(['15', '0', '1', '1'], dtype='<U2'), array(['16', '0', '0', '1'], dtype='<U2'), array(['17', '1', '1', '0'], dtype='<U2'), array(['21', '1', '0', '0'], dtype='<U2'), array(['23', '1', '0', '1'], dtype='<U2'), array(['15', '1', '1', '0'], dtype='<U2'), array(['17', '0', '1', '1'], dtype='<U2'), array(['17', '1', '0', '0'], dtype='<U2')]\n"
     ]
    }
   ],
   "source": [
    "# open csv, save data into vectors\n",
    "import csv\n",
    "import numpy as np\n",
    "with open('q2.csv', newline=\"\") as csvfile:\n",
    "    filereader = csv.reader(csvfile, delimiter=',')\n",
    "    arrays = []\n",
    "    for row in filereader:\n",
    "        arrays.append(np.array(row))\n",
    "    print(arrays)"
   ]
  },
  {
   "cell_type": "code",
   "execution_count": 16,
   "id": "3436fd23-6c5e-4255-86fa-f40e258dfc3b",
   "metadata": {},
   "outputs": [
    {
     "name": "stdout",
     "output_type": "stream",
     "text": [
      "[ 0.05 -3.    2.5 ]\n"
     ]
    },
    {
     "ename": "UFuncTypeError",
     "evalue": "ufunc 'matmul' did not contain a loop with signature matching types (dtype('<U32'), dtype('<U32')) -> dtype('<U32')",
     "output_type": "error",
     "traceback": [
      "\u001b[0;31m---------------------------------------------------------------------------\u001b[0m",
      "\u001b[0;31mUFuncTypeError\u001b[0m                            Traceback (most recent call last)",
      "\u001b[0;32m/var/folders/k8/wy10l4qx29x7j42dzjtj5zbh0000gn/T/ipykernel_52268/800097891.py\u001b[0m in \u001b[0;36m<module>\u001b[0;34m\u001b[0m\n\u001b[1;32m      5\u001b[0m \u001b[0mprint\u001b[0m\u001b[0;34m(\u001b[0m\u001b[0mtheta\u001b[0m\u001b[0;34m)\u001b[0m\u001b[0;34m\u001b[0m\u001b[0;34m\u001b[0m\u001b[0m\n\u001b[1;32m      6\u001b[0m \u001b[0;34m\u001b[0m\u001b[0m\n\u001b[0;32m----> 7\u001b[0;31m \u001b[0mgx\u001b[0m \u001b[0;34m=\u001b[0m \u001b[0mtheta\u001b[0m \u001b[0;34m@\u001b[0m \u001b[0marrays\u001b[0m\u001b[0;34m[\u001b[0m\u001b[0;36m1\u001b[0m\u001b[0;34m]\u001b[0m\u001b[0;34m[\u001b[0m\u001b[0;36m0\u001b[0m\u001b[0;34m:\u001b[0m\u001b[0;36m3\u001b[0m\u001b[0;34m]\u001b[0m \u001b[0;34m+\u001b[0m \u001b[0mtheta_naut\u001b[0m\u001b[0;34m\u001b[0m\u001b[0;34m\u001b[0m\u001b[0m\n\u001b[0m\u001b[1;32m      8\u001b[0m \u001b[0mprint\u001b[0m\u001b[0;34m(\u001b[0m\u001b[0mgx\u001b[0m\u001b[0;34m)\u001b[0m\u001b[0;34m\u001b[0m\u001b[0;34m\u001b[0m\u001b[0m\n",
      "\u001b[0;31mUFuncTypeError\u001b[0m: ufunc 'matmul' did not contain a loop with signature matching types (dtype('<U32'), dtype('<U32')) -> dtype('<U32')"
     ]
    }
   ],
   "source": [
    "# (a) calculate the value of g(x) for each data point\n",
    "theta = np.array([0.05,-3.0, 2.5])\n",
    "theta = np.transpose(theta)\n",
    "theta_naut = 0.3\n",
    "print(theta)\n",
    "\n",
    "gx = theta @ arrays[1][0:3] + theta_naut\n",
    "print(gx)\n"
   ]
  },
  {
   "cell_type": "code",
   "execution_count": null,
   "id": "b6c34a1d-f32a-4937-8ecf-978a8dcd2744",
   "metadata": {},
   "outputs": [],
   "source": []
  }
 ],
 "metadata": {
  "kernelspec": {
   "display_name": "Python 3 (ipykernel)",
   "language": "python",
   "name": "python3"
  },
  "language_info": {
   "codemirror_mode": {
    "name": "ipython",
    "version": 3
   },
   "file_extension": ".py",
   "mimetype": "text/x-python",
   "name": "python",
   "nbconvert_exporter": "python",
   "pygments_lexer": "ipython3",
   "version": "3.9.6"
  }
 },
 "nbformat": 4,
 "nbformat_minor": 5
}
