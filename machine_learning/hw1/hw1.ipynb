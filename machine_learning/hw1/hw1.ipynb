{
 "cells": [
  {
   "cell_type": "code",
   "execution_count": 1,
   "id": "3a13878c-df3c-43b1-b740-6c4348ffd4dd",
   "metadata": {},
   "outputs": [
    {
     "name": "stdout",
     "output_type": "stream",
     "text": [
      "Collecting package metadata (current_repodata.json): done\n",
      "Solving environment: done\n",
      "\n",
      "\n",
      "==> WARNING: A newer version of conda exists. <==\n",
      "  current version: 4.10.1\n",
      "  latest version: 4.10.3\n",
      "\n",
      "Please update conda by running\n",
      "\n",
      "    $ conda update -n base -c defaults conda\n",
      "\n",
      "\n",
      "\n",
      "## Package Plan ##\n",
      "\n",
      "  environment location: /Users/adamcarriker/opt/anaconda3/envs/MachineLearning\n",
      "\n",
      "  added / updated specs:\n",
      "    - matplotlib\n",
      "\n",
      "\n",
      "The following packages will be downloaded:\n",
      "\n",
      "    package                    |            build\n",
      "    ---------------------------|-----------------\n",
      "    brotli-1.0.9               |       hb1e8313_2         398 KB\n",
      "    cycler-0.10.0              |   py39hecd8cb5_0          16 KB\n",
      "    fonttools-4.25.0           |     pyhd3eb1b0_0         632 KB\n",
      "    freetype-2.10.4            |       ha233b18_0         564 KB\n",
      "    kiwisolver-1.3.1           |   py39h23ab428_0          53 KB\n",
      "    lcms2-2.12                 |       hf1fd2bf_0         284 KB\n",
      "    lz4-c-1.9.3                |       h23ab428_1         140 KB\n",
      "    matplotlib-3.4.2           |   py39hecd8cb5_0          26 KB\n",
      "    matplotlib-base-3.4.2      |   py39h8b3ea08_0         5.6 MB\n",
      "    munkres-1.1.4              |             py_0          13 KB\n",
      "    openjpeg-2.4.0             |       h66ea3da_0         301 KB\n",
      "    openssl-1.1.1l             |       h9ed2024_0         2.2 MB\n",
      "    pillow-8.3.1               |   py39ha4cf6ea_0         602 KB\n",
      "    ------------------------------------------------------------\n",
      "                                           Total:        10.7 MB\n",
      "\n",
      "The following NEW packages will be INSTALLED:\n",
      "\n",
      "  brotli             pkgs/main/osx-64::brotli-1.0.9-hb1e8313_2\n",
      "  cycler             pkgs/main/osx-64::cycler-0.10.0-py39hecd8cb5_0\n",
      "  fonttools          pkgs/main/noarch::fonttools-4.25.0-pyhd3eb1b0_0\n",
      "  freetype           pkgs/main/osx-64::freetype-2.10.4-ha233b18_0\n",
      "  jpeg               pkgs/main/osx-64::jpeg-9b-he5867d9_2\n",
      "  kiwisolver         pkgs/main/osx-64::kiwisolver-1.3.1-py39h23ab428_0\n",
      "  lcms2              pkgs/main/osx-64::lcms2-2.12-hf1fd2bf_0\n",
      "  libpng             pkgs/main/osx-64::libpng-1.6.37-ha441bb4_0\n",
      "  libtiff            pkgs/main/osx-64::libtiff-4.2.0-h87d7836_0\n",
      "  libwebp-base       pkgs/main/osx-64::libwebp-base-1.2.0-h9ed2024_0\n",
      "  lz4-c              pkgs/main/osx-64::lz4-c-1.9.3-h23ab428_1\n",
      "  matplotlib         pkgs/main/osx-64::matplotlib-3.4.2-py39hecd8cb5_0\n",
      "  matplotlib-base    pkgs/main/osx-64::matplotlib-base-3.4.2-py39h8b3ea08_0\n",
      "  munkres            pkgs/main/noarch::munkres-1.1.4-py_0\n",
      "  olefile            pkgs/main/noarch::olefile-0.46-py_0\n",
      "  openjpeg           pkgs/main/osx-64::openjpeg-2.4.0-h66ea3da_0\n",
      "  pillow             pkgs/main/osx-64::pillow-8.3.1-py39ha4cf6ea_0\n",
      "  zstd               pkgs/main/osx-64::zstd-1.4.9-h322a384_0\n",
      "\n",
      "The following packages will be UPDATED:\n",
      "\n",
      "  openssl                                 1.1.1k-h9ed2024_0 --> 1.1.1l-h9ed2024_0\n",
      "\n",
      "\n",
      "\n",
      "Downloading and Extracting Packages\n",
      "kiwisolver-1.3.1     | 53 KB     | ##################################### | 100% \n",
      "lz4-c-1.9.3          | 140 KB    | ##################################### | 100% \n",
      "fonttools-4.25.0     | 632 KB    | ##################################### | 100% \n",
      "munkres-1.1.4        | 13 KB     | ##################################### | 100% \n",
      "freetype-2.10.4      | 564 KB    | ##################################### | 100% \n",
      "matplotlib-3.4.2     | 26 KB     | ##################################### | 100% \n",
      "matplotlib-base-3.4. | 5.6 MB    | ##################################### | 100% \n",
      "brotli-1.0.9         | 398 KB    | ##################################### | 100% \n",
      "openjpeg-2.4.0       | 301 KB    | ##################################### | 100% \n",
      "cycler-0.10.0        | 16 KB     | ##################################### | 100% \n",
      "openssl-1.1.1l       | 2.2 MB    | ##################################### | 100% \n",
      "pillow-8.3.1         | 602 KB    | ##################################### | 100% \n",
      "lcms2-2.12           | 284 KB    | ##################################### | 100% \n",
      "Preparing transaction: done\n",
      "Verifying transaction: done\n",
      "Executing transaction: done\n"
     ]
    }
   ],
   "source": [
    "import sys\n",
    "# !conda install --yes --prefix {sys.prefix} numpy\n",
    "!conda install --yes --prefix {sys.prefix} matplotlib"
   ]
  },
  {
   "cell_type": "code",
   "execution_count": 2,
   "id": "b301642e-d02a-4077-908a-c26de14a5fd0",
   "metadata": {},
   "outputs": [],
   "source": [
    "# open csv, save data into vectors\n",
    "import csv\n",
    "import numpy as np\n",
    "with open('q2.csv', newline=\"\") as csvfile:\n",
    "    filereader = csv.reader(csvfile, delimiter=',')\n",
    "    data = []\n",
    "    headers = next(filereader)\n",
    "    for row in filereader:\n",
    "        data.append(np.array(row,dtype='int'))"
   ]
  },
  {
   "cell_type": "code",
   "execution_count": 3,
   "id": "3436fd23-6c5e-4255-86fa-f40e258dfc3b",
   "metadata": {},
   "outputs": [
    {
     "name": "stdout",
     "output_type": "stream",
     "text": [
      "A threshold value of 0.7<gx<1.1 would minimize misclassification, as these are the largest and smallest values of the Y=0 and Y=1 labels, respectivley.\n",
      "TP:  3\n",
      "FN:  1\n",
      "TN:  4\n",
      "FP:  0\n"
     ]
    }
   ],
   "source": [
    "# (a) calculate the value of g(x) for each data point\n",
    "theta = np.array([0.05,-3.0, 2.5])\n",
    "theta = np.transpose(theta)\n",
    "theta_naut = 0.3\n",
    "\n",
    "gx=[]\n",
    "for d in data:\n",
    "    gx.append(theta @ d[0:3] + theta_naut)\n",
    "\n",
    "y0=[]\n",
    "y1=[]\n",
    "for i in range(0,len(gx)):\n",
    "    if data[i][3] == 0:\n",
    "        y0.append(gx[i])\n",
    "    else:\n",
    "        y1.append(gx[i])\n",
    "\n",
    "# threshold value of 0.7<gx<1.1 would minimize misclassification\n",
    "print('A threshold value of 0.7<gx<1.1 would minimize misclassification, as these are the largest'\\\n",
    "     ' and smallest values of the Y=0 and Y=1 labels, respectivley.')\n",
    "threshold = 1\n",
    "TP = sum(map(lambda i : y1[i] >= threshold, range(0,len(y1)) ))\n",
    "FN = sum(map(lambda i : y1[i] < threshold, range(0,len(y1)) ))\n",
    "TN = sum(map(lambda i : y0[i] < threshold, range(0,len(y1)) ))\n",
    "FP = sum(map(lambda i : y0[i] >= threshold, range(0,len(y1)) ))\n",
    "print('TP: ', TP)\n",
    "print('FN: ', FN)\n",
    "print('TN: ', TN)\n",
    "print('FP: ', FP)    \n",
    "        \n"
   ]
  },
  {
   "cell_type": "code",
   "execution_count": 4,
   "id": "b6c34a1d-f32a-4937-8ecf-978a8dcd2744",
   "metadata": {},
   "outputs": [
    {
     "name": "stdout",
     "output_type": "stream",
     "text": [
      "A threshold value of 0.67<gx<0.75 would minimize misclassification, as these are the largest and smallest values of the Y=0 and Y=1 labels, respectivley.\n",
      "Confusion matrix:\n",
      "\t|Y=+1\t|Y=-1\t|\n",
      "Y=+1\t|3\t|0\t|\n",
      "Y=-1\t|1\t|4\t|\n",
      "precision: 1.0\n",
      "recall: 0.75\n",
      "f1score: 0.8571428571428571\n"
     ]
    }
   ],
   "source": [
    "import math\n",
    "# (b) calculate f(x) for each data point\n",
    "\n",
    "fx=[]\n",
    "for d in gx:\n",
    "    fx.append((1+math.exp(-d))**(-1))\n",
    "\n",
    "y0=[]\n",
    "y1=[]\n",
    "for i in range(0,len(fx)):\n",
    "    if data[i][3] == 0:\n",
    "        y0.append(fx[i])\n",
    "    else:\n",
    "        y1.append(fx[i])\n",
    "\n",
    "# threshold value of 0.67<gx<0.75 would minimize misclassification\n",
    "print('A threshold value of 0.67<gx<0.75 would minimize misclassification, as these are the largest'\\\n",
    "     ' and smallest values of the Y=0 and Y=1 labels, respectivley.')\n",
    "threshold = 0.7\n",
    "        \n",
    "\n",
    "# Compute the confusion matrix, precision, recall, and F1 score for the threshold\n",
    "TP = sum(map(lambda i : y1[i] >= threshold, range(0,len(y1)) ))\n",
    "FN = sum(map(lambda i : y1[i] < threshold, range(0,len(y1)) ))\n",
    "TN = sum(map(lambda i : y0[i] < threshold, range(0,len(y1)) ))\n",
    "FP = sum(map(lambda i : y0[i] >= threshold, range(0,len(y1)) ))\n",
    "\n",
    "print(f'Confusion matrix:\\n\\t|Y=+1\\t|Y=-1\\t|\\nY=+1\\t|{TP}\\t|{FP}\\t|\\nY=-1\\t|{FN}\\t|{TN}\\t|')\n",
    "precision = TP / (TP + FP)\n",
    "recall = TP / (TP + FN)\n",
    "f1score = 2* (precision * recall)/(precision + recall)\n",
    "print(f'precision: {precision}')\n",
    "print(f'recall: {recall}')\n",
    "print(f'f1score: {f1score}')"
   ]
  },
  {
   "cell_type": "code",
   "execution_count": 41,
   "id": "e0545504-61a1-4512-bdf8-79f85db1a833",
   "metadata": {},
   "outputs": [
    {
     "data": {
      "image/png": "[encoded data removed]",
      "text/plain": [
       "<Figure size 432x288 with 1 Axes>"
      ]
     },
     "metadata": {
      "needs_background": "light"
     },
     "output_type": "display_data"
    },
    {
     "name": "stdout",
     "output_type": "stream",
     "text": [
      "AUC= 0.9166666666666666\n"
     ]
    }
   ],
   "source": [
    "# (c) plot the ROC curve, and compute the AUC\n",
    "\n",
    "import matplotlib.pyplot as plt\n",
    "\n",
    "tprs = []\n",
    "fprs = []\n",
    "for threshold in fx:\n",
    "    TP = sum(map(lambda i : y1[i] >= threshold, range(0,len(y1)) ))\n",
    "    FP = sum(map(lambda i : y0[i] >= threshold, range(0,len(y1)) ))\n",
    "    tpr = TP / len(y1) # number of positives classified as positives / number of positives\n",
    "    fpr = FP / len(y0) # negatives classified as positives / number of negatives\n",
    "    tprs.append(tpr)\n",
    "    fprs.append(fpr)\n",
    "\n",
    "plt.scatter(fprs, tprs)\n",
    "plt.axis([0, 1, 0, 1])\n",
    "plt.xlabel('FPR')\n",
    "plt.ylabel('TPR')\n",
    "plt.show()\n",
    "\n",
    "# compute AUC\n",
    "z = np.sort(np.array([tprs,fprs]))\n",
    "prevtpr = 0\n",
    "prevfpr = 0\n",
    "auc = 0\n",
    "for i in range(len(z[0])):\n",
    "    auc += (z[1][i]-prevfpr) * ((z[0][i]-prevtpr)/2 + prevtpr)\n",
    "    prevfpr = z[1][i]\n",
    "    prevtpr = z[0][i]\n",
    "\n",
    "auc += (1-prevfpr) * ((1-prevtpr)/2+ prevtpr)\n",
    "print('AUC=',auc)\n",
    "\n"
   ]
  },
  {
   "cell_type": "code",
   "execution_count": null,
   "id": "812edd23-9bb6-4e8e-95b7-1a506c610f66",
   "metadata": {},
   "outputs": [],
   "source": []
  }
 ],
 "metadata": {
  "kernelspec": {
   "display_name": "Python 3 (ipykernel)",
   "language": "python",
   "name": "python3"
  },
  "language_info": {
   "codemirror_mode": {
    "name": "ipython",
    "version": 3
   },
   "file_extension": ".py",
   "mimetype": "text/x-python",
   "name": "python",
   "nbconvert_exporter": "python",
   "pygments_lexer": "ipython3",
   "version": "3.9.6"
  }
 },
 "nbformat": 4,
 "nbformat_minor": 5
}
