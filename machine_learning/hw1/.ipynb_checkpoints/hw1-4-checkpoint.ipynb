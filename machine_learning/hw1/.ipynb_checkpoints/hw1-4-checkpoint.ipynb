{
 "cells": [
  {
   "cell_type": "code",
   "execution_count": 48,
   "id": "853af264-9414-4c9c-aa1b-634ac52d59fd",
   "metadata": {},
   "outputs": [
    {
     "name": "stdout",
     "output_type": "stream",
     "text": [
      "# Question 4.1 (a)\n",
      "Overall gini index:  0.5\n",
      "x1_split=  0.33333333333333337\n",
      "x2_split=  0.020000000000000018\n",
      "x3_split=  0.08333333333333331\n",
      "# Question 4.1 (b)\n",
      "0.5408520829727552\n",
      "Info gain of x1:  0.6099865470109875\n",
      "Info gain of x2:  0.02904940554533142\n",
      "Info gain of x3:  0.28547529722733445\n"
     ]
    }
   ],
   "source": [
    "# Question 4.1 (a)\n",
    "print(\"# Question 4.1 (a)\")\n",
    "\n",
    "def gini_Index(p):\n",
    "    gini = 2*p*(1-p)\n",
    "    return gini\n",
    "\n",
    "def gini_Reduction(p,n,ncs,pcs):\n",
    "    s = 0\n",
    "    for i,nc in enumerate(ncs):\n",
    "        s += nc/n*gini_Index(pcs[i])\n",
    "    gini_reduction = gini_Index(p) - s \n",
    "    return gini_reduction\n",
    "\n",
    "g1 = gini_Index((5/10))\n",
    "print(\"Overall gini index: \", g1)\n",
    "\n",
    "x1_split = gini_Reduction(1/2,10,[6,4],[5/6,0])\n",
    "print(\"x1_split= \", x1_split)\n",
    "x2_split = gini_Reduction(1/2,10,[5,5],[2/5,3/5])\n",
    "print(\"x2_split= \", x2_split)\n",
    "x3_split = gini_Reduction(1/2,10,[4,6],[1/4,4/6])\n",
    "print(\"x3_split= \", x3_split)\n",
    "\n",
    "# Question 4.1 (b)\n",
    "print(\"# Question 4.1 (b)\")\n",
    "import math\n",
    "from functools import reduce\n",
    "\n",
    "def entropy(ps):\n",
    "    hp = 0\n",
    "    for p in ps:\n",
    "#         print(f'-1 * {p} * log2({p})')\n",
    "        if p > 0:\n",
    "            hp -= p * math.log2(p)\n",
    "#         print(\"Hp = \", hp)\n",
    "    return hp\n",
    "\n",
    "def information_Gain(pos,neg,ncs,poses,negs):\n",
    "    info_gain = entropy([pos/(pos+neg),neg/(pos+neg)])\n",
    "#     print(\"Info gain starting at: \", info_gain)\n",
    "    for i,nc in enumerate(ncs):\n",
    "#         print(f'{nc}/{pos+neg}H([{poses[i]}/{nc},{negs[i]}/{nc}])')\n",
    "        info_gain -= (nc/(pos+neg)*entropy([poses[i]/nc,negs[i]/nc]))\n",
    "#         print(\"Info gain: \", info_gain)\n",
    "    return info_gain\n",
    "    \n",
    "ex = information_Gain(6,6,[2,4,6],[0,4,2],[2,0,4])\n",
    "print(ex)\n",
    "\n",
    "x1 = information_Gain(5,5,[6,4],[5,0],[1,4])\n",
    "print(\"Info gain of x1: \", x1)\n",
    "x2 = information_Gain(5,5,[5,5],[2,3],[3,2])\n",
    "print(\"Info gain of x2: \", x2)\n",
    "x3 = information_Gain(5,5,[4,6],[1,5],[3,1])\n",
    "print(\"Info gain of x3: \", x3)\n",
    "        \n",
    "        "
   ]
  },
  {
   "cell_type": "code",
   "execution_count": null,
   "id": "273c8d06-9e91-48fa-9d7c-efe641f5ec7c",
   "metadata": {},
   "outputs": [],
   "source": []
  }
 ],
 "metadata": {
  "kernelspec": {
   "display_name": "Python 3 (ipykernel)",
   "language": "python",
   "name": "python3"
  },
  "language_info": {
   "codemirror_mode": {
    "name": "ipython",
    "version": 3
   },
   "file_extension": ".py",
   "mimetype": "text/x-python",
   "name": "python",
   "nbconvert_exporter": "python",
   "pygments_lexer": "ipython3",
   "version": "3.9.6"
  }
 },
 "nbformat": 4,
 "nbformat_minor": 5
}
