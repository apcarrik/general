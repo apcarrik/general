{
  "nbformat": 4,
  "nbformat_minor": 0,
  "metadata": {
    "anaconda-cloud": {},
    "kernelspec": {
      "display_name": "Python 3",
      "language": "python",
      "name": "python3"
    },
    "language_info": {
      "codemirror_mode": {
        "name": "ipython",
        "version": 3
      },
      "file_extension": ".py",
      "mimetype": "text/x-python",
      "name": "python",
      "nbconvert_exporter": "python",
      "pygments_lexer": "ipython3",
      "version": "3.8.0"
    },
    "colab": {
      "name": "svm.ipynb",
      "provenance": [],
      "collapsed_sections": []
    }
  },
  "cells": [
    {
      "cell_type": "markdown",
      "metadata": {
        "id": "1sq36OIazJ_O"
      },
      "source": [
        "# LINEAR SVM"
      ]
    },
    {
      "cell_type": "code",
      "metadata": {
        "colab": {
          "base_uri": "https://localhost:8080/"
        },
        "id": "CWDm1TB3qpht",
        "outputId": "b8806ade-907b-4861-d6f5-f01b3119425f"
      },
      "source": [
        "! pip install graphviz\n",
        "! pip install dl8.5\n",
        "! pip install chefboost\n",
        "! pip install sklearn\n",
        "! pip install libsvm"
      ],
      "execution_count": 153,
      "outputs": [
        {
          "output_type": "stream",
          "name": "stdout",
          "text": [
            "Requirement already satisfied: graphviz in /usr/local/lib/python3.7/dist-packages (0.10.1)\n",
            "Requirement already satisfied: dl8.5 in /usr/local/lib/python3.7/dist-packages (0.0.15)\n",
            "Requirement already satisfied: scikit-learn in /usr/local/lib/python3.7/dist-packages (from dl8.5) (0.22.2.post1)\n",
            "Requirement already satisfied: setuptools in /usr/local/lib/python3.7/dist-packages (from dl8.5) (57.4.0)\n",
            "Requirement already satisfied: cython in /usr/local/lib/python3.7/dist-packages (from dl8.5) (0.29.24)\n",
            "Requirement already satisfied: numpy in /usr/local/lib/python3.7/dist-packages (from dl8.5) (1.19.5)\n",
            "Requirement already satisfied: scipy>=0.17.0 in /usr/local/lib/python3.7/dist-packages (from scikit-learn->dl8.5) (1.4.1)\n",
            "Requirement already satisfied: joblib>=0.11 in /usr/local/lib/python3.7/dist-packages (from scikit-learn->dl8.5) (1.0.1)\n",
            "Requirement already satisfied: chefboost in /usr/local/lib/python3.7/dist-packages (0.0.13)\n",
            "Requirement already satisfied: pandas>=0.22.0 in /usr/local/lib/python3.7/dist-packages (from chefboost) (1.1.5)\n",
            "Requirement already satisfied: psutil>=5.4.3 in /usr/local/lib/python3.7/dist-packages (from chefboost) (5.4.8)\n",
            "Requirement already satisfied: tqdm>=4.30.0 in /usr/local/lib/python3.7/dist-packages (from chefboost) (4.62.3)\n",
            "Requirement already satisfied: numpy>=1.14.0 in /usr/local/lib/python3.7/dist-packages (from chefboost) (1.19.5)\n",
            "Requirement already satisfied: pytz>=2017.2 in /usr/local/lib/python3.7/dist-packages (from pandas>=0.22.0->chefboost) (2018.9)\n",
            "Requirement already satisfied: python-dateutil>=2.7.3 in /usr/local/lib/python3.7/dist-packages (from pandas>=0.22.0->chefboost) (2.8.2)\n",
            "Requirement already satisfied: six>=1.5 in /usr/local/lib/python3.7/dist-packages (from python-dateutil>=2.7.3->pandas>=0.22.0->chefboost) (1.15.0)\n",
            "Requirement already satisfied: sklearn in /usr/local/lib/python3.7/dist-packages (0.0)\n",
            "Requirement already satisfied: scikit-learn in /usr/local/lib/python3.7/dist-packages (from sklearn) (0.22.2.post1)\n",
            "Requirement already satisfied: scipy>=0.17.0 in /usr/local/lib/python3.7/dist-packages (from scikit-learn->sklearn) (1.4.1)\n",
            "Requirement already satisfied: numpy>=1.11.0 in /usr/local/lib/python3.7/dist-packages (from scikit-learn->sklearn) (1.19.5)\n",
            "Requirement already satisfied: joblib>=0.11 in /usr/local/lib/python3.7/dist-packages (from scikit-learn->sklearn) (1.0.1)\n",
            "Requirement already satisfied: libsvm in /usr/local/lib/python3.7/dist-packages (3.23.0.4)\n"
          ]
        }
      ]
    },
    {
      "cell_type": "code",
      "metadata": {
        "ExecuteTime": {
          "end_time": "2020-09-05T06:48:08.461259Z",
          "start_time": "2020-09-05T06:48:07.913540Z"
        },
        "id": "tzP3IcCLzJ_S"
      },
      "source": [
        "import numpy as np\n",
        "import matplotlib.pyplot as plt\n",
        "import scipy.io as io\n",
        "import libsvm\n",
        "from libsvm.svmutil import *\n",
        "from pprint import pprint\n",
        "\n",
        "%matplotlib inline"
      ],
      "execution_count": 154,
      "outputs": []
    },
    {
      "cell_type": "markdown",
      "metadata": {
        "id": "z5cEyphIzJ_U"
      },
      "source": [
        "## 3.1 Linear Support Vector Machine on toy data"
      ]
    },
    {
      "cell_type": "markdown",
      "metadata": {
        "id": "SZBHU-_zzJ_V"
      },
      "source": [
        "### 3.1.1 \n",
        "Generate a training set of size $100$ with 2D features (X) drawn at random as follows:\n",
        "* X_{neg} $\\sim$ $\\mathcal{N}$([-5, -5], 5*$I_2$) and correspond to negative labels (-1)\n",
        "* X_{pos} $\\sim$ $\\mathcal{N}$([5, 5], 5*$I_2$) and correspond to positive labels (+1)\n",
        "<br />\n",
        "Accordingly, $X = [X_{neg}, X_{pos}]$ is a $100\\times2$ array, Y is a $100\\times1$ array of values $\\in \\{-1, 1\\}$.\n",
        "<p/>Draw a scatter plot of the full training dataset with the points colored according to their labels."
      ]
    },
    {
      "cell_type": "code",
      "metadata": {
        "ExecuteTime": {
          "end_time": "2020-09-05T06:48:09.464223Z",
          "start_time": "2020-09-05T06:48:09.284799Z"
        },
        "id": "PxTgF6nGzJ_W",
        "colab": {
          "base_uri": "https://localhost:8080/",
          "height": 266
        },
        "outputId": "4a9a5d25-6239-44ab-e489-4d169aa17c42"
      },
      "source": [
        "debug_mode = False\n",
        "# Generate binary class dataset\n",
        "np.random.seed(0)\n",
        "\n",
        "n_samples = 100\n",
        "center_1 = [-5, -5]\n",
        "center_2 = [5, 5]\n",
        "\n",
        "# Generate Data:\n",
        "Xneg = np.random.multivariate_normal([-5, -5], [[5, 0], [0, 5]], 50).T\n",
        "Xpos = np.random.multivariate_normal([5, 5], [[5, 0], [0, 5]], 50).T\n",
        "X = np.swapaxes(np.append(Xneg, Xpos,axis=1),0,1)\n",
        "Y = np.array([-1]*50+[1]*50)\n",
        "\n",
        "if debug_mode:\n",
        "  print(\"\\t\\tX \\t\\t    | Y\")\n",
        "  pprint(list(zip(X,Y)))\n",
        "\n",
        "# Scatter plot:\n",
        "plt.scatter([i[0] for i in X[:50]],[i[1] for i in X[:50]], color='red')\n",
        "plt.scatter([i[0] for i in X[50:]],[i[1] for i in X[50:]], color='blue')\n",
        "plt.axis('equal')\n",
        "plt.show()\n"
      ],
      "execution_count": 230,
      "outputs": [
        {
          "output_type": "display_data",
          "data": {
            "image/png": "[encoded data removed]",
            "text/plain": [
              "<Figure size 432x288 with 1 Axes>"
            ]
          },
          "metadata": {
            "needs_background": "light"
          }
        }
      ]
    },
    {
      "cell_type": "markdown",
      "metadata": {
        "id": "xh0yJd6JzJ_W"
      },
      "source": [
        "### 3.1.2 \n",
        "Train a linear support vector machine on the data with $C=1$ and draw the decision boundary line that separates o and x. Mark the support vectors separately (ex.circle around the point). \n",
        "\n",
        "Note: You can use the libsvm.svmutil functions with the kernel_type set to 0, indiciating a linear kernel and svm_type set to 0 indicating C-SVC.\n",
        "Also note that the support_vector coefficients returned by the LIBSVM model are the dual coefficients."
      ]
    },
    {
      "cell_type": "code",
      "metadata": {
        "id": "0ia0yAjpzD6b"
      },
      "source": [
        "def print_model(m):\n",
        "  svm_type = m.get_svm_type()\n",
        "  nr_class = m.get_nr_class()\n",
        "  svr_probability = m.get_svr_probability()\n",
        "  class_labels = m.get_labels()\n",
        "  sv_indices = m.get_sv_indices()\n",
        "  nr_sv = m.get_nr_sv()\n",
        "  is_prob_model = m.is_probability_model()\n",
        "  sv_coefficients = m.get_sv_coef()\n",
        "  svs = m.get_SV()\n",
        "\n",
        "  print(\"svm_type:\", svm_type)\n",
        "  print(\"nr_class:\", nr_class)\n",
        "  print(\"svr_probability:\", svr_probability)\n",
        "  print(\"labels:\", class_labels)\n",
        "  print(\"sv_indices:\", sv_indices)\n",
        "  print(\"nr_sv:\", nr_sv)\n",
        "  print(\"probability_model:\",is_prob_model)\n",
        "  print(\"SVs (10):\")\n",
        "  pprint(svs[:10])\n",
        "  print(\"SV coefficients, SVs (10):\")\n",
        "  pprint(list(zip(sv_coefficients[:10],svs[:10])))\n",
        "\n"
      ],
      "execution_count": 231,
      "outputs": []
    },
    {
      "cell_type": "code",
      "metadata": {
        "ExecuteTime": {
          "end_time": "2020-09-05T06:53:56.653252Z",
          "start_time": "2020-09-05T06:53:56.408968Z"
        },
        "id": "wcmfF5D1zJ_Y",
        "colab": {
          "base_uri": "https://localhost:8080/",
          "height": 317
        },
        "outputId": "46d34bde-ff7d-40fe-f460-5d46c459eea2"
      },
      "source": [
        "# Define the SVM problem\n",
        "p = svm_problem(Y, X)\n",
        "\n",
        "# Define the hyperparameters\n",
        "h = svm_parameter('-s 0 -t 0 -c 1')\n",
        "\n",
        "# Train the model\n",
        "m = svm_train(p,h)\n",
        "\n",
        "# Print Information about Model\n",
        "if(debug_mode):\n",
        "    print_model(m)\n",
        "\n",
        "# Compute the slope and intercept of the separating line/hyperplanee with the use of the support vectors\n",
        "# and other information from the LIBSVM model.\n",
        "\n",
        "w = np.matmul(X[np.array(m.get_sv_indices()) - 1].T, m.get_sv_coef())\n",
        "b = -m.rho.contents.value\n",
        "\n",
        "slope = -w[0]/w[1] \n",
        "intercept = -b/w[1]\n",
        "\n",
        "lx = np.linspace(-5,5)\n",
        "ly = slope*lx + intercept\n",
        "\n",
        "if(debug_mode):\n",
        "  print(\"w:\", w)\n",
        "  print(\"b:\", b)\n",
        "  print(\"slope:\", slope)\n",
        "  print(\"intercept:\", intercept)\n",
        "\n",
        "# Draw the scatter plot, the decision boundary line, and mark the support vectors.\n",
        "\n",
        "figure, axes = plt.subplots()\n",
        "plt.scatter([i[0] for i in X[:50]],[i[1] for i in X[:50]], color='red')\n",
        "plt.scatter([i[0] for i in X[50:]],[i[1] for i in X[50:]], color='blue')\n",
        "plt.axis('equal')\n",
        "\n",
        "plt.plot(lx,ly,'k-')\n",
        "plt.axis('equal')\n",
        "\n",
        "#indicate support vectors\n",
        "for sv_idx in sv_indices:\n",
        "  print(\"sv:\", X[sv_idx][0], X[sv_idx][1])\n",
        "  circle = plt.Circle((X[sv_idx -1, 0], X[sv_idx -1, 1]), 0.75, color='green', fill=False)\n",
        "  axes.set_aspect(1)\n",
        "  axes.add_artist(circle)\n",
        "plt.show()"
      ],
      "execution_count": 232,
      "outputs": [
        {
          "output_type": "stream",
          "name": "stdout",
          "text": [
            "sv: 7.656515374994706 5.708705225230299\n",
            "sv: 6.398060026167622 1.417690178189365\n",
            "sv: -2.36416874839897 -5.402324163716905\n"
          ]
        },
        {
          "output_type": "display_data",
          "data": {
            "image/png": "[encoded data removed]",
            "text/plain": [
              "<Figure size 432x288 with 1 Axes>"
            ]
          },
          "metadata": {
            "needs_background": "light"
          }
        }
      ]
    },
    {
      "cell_type": "markdown",
      "metadata": {
        "ExecuteTime": {
          "end_time": "2020-09-05T00:40:02.321601Z",
          "start_time": "2020-09-05T00:40:02.312975Z"
        },
        "id": "tcK72JLGzJ_Z"
      },
      "source": [
        "### 3.1.3 \n",
        "Draw a line that separates the data for 8 different $C$ ($10^{-5}$~$10^7$).\n",
        "Plot the number of support vectors vs. $C$ (plot x-axis on a log scale).\n",
        "How does the number of support vectors change as $C$ increases and why does it change like that? \n",
        "\n",
        "Note: You might prefer to use the command-line style of svm_parameter initialization such as: svm_parameter('-s 0 -t 0') to indicate a linear kernel and C-SVC as the SVM type.\n"
      ]
    },
    {
      "cell_type": "code",
      "metadata": {
        "ExecuteTime": {
          "end_time": "2020-09-05T07:05:20.422986Z",
          "start_time": "2020-09-05T07:05:13.508937Z"
        },
        "id": "r_ePTq5BzJ_a",
        "colab": {
          "base_uri": "https://localhost:8080/",
          "height": 531
        },
        "outputId": "fc3cef43-5ee1-4f76-e73e-3c0b6cc7684f"
      },
      "source": [
        "\n",
        "C_range = [10**-5, 10**-3, 1, 10, 100, 10**3, 10**5, 10**7]\n",
        "num_sv = []\n",
        "\n",
        "# Initialize Plot with data points\n",
        "figure, axes = plt.subplots()\n",
        "# Scatter plot:\n",
        "plt.scatter([i[0] for i in X[:50]],[i[1] for i in X[:50]], color='red')\n",
        "plt.scatter([i[0] for i in X[50:]],[i[1] for i in X[50:]], color='blue')\n",
        "plt.axis('equal')\n",
        "\n",
        "\n",
        "\n",
        "# Loop over a similar setup to that in the previous code block.\n",
        "for C in C_range:\n",
        "  # Define the hyperparameters\n",
        "  h = svm_parameter(f'-s 0 -t 0 -c {C} ')\n",
        "\n",
        "  # Train the model\n",
        "  m = svm_train(p,h)\n",
        "\n",
        "  # Get Information about Model\n",
        "  svs = m.get_SV()\n",
        "  w = np.matmul(X[np.array(m.get_sv_indices()) - 1].T, m.get_sv_coef())\n",
        "  b = -m.rho.contents.value\n",
        "\n",
        "  slope = -w[0]/w[1] \n",
        "  intercept = -b/w[1]\n",
        "\n",
        "  lx = np.linspace(-10,10)\n",
        "  ly = slope*lx + intercept\n",
        "\n",
        "  # Draw the scatter plot with multiple decision lines on top (one for each value of C)\n",
        "  plt.plot(lx,ly,'k-')\n",
        "  plt.axis('equal')\n",
        "\n",
        "  #indicate support vectors\n",
        "  num_sv.append(len(svs))\n",
        "\n",
        "plt.show()\n",
        "\n",
        "# Draw the num_sv vs. C plot.\n",
        "\n",
        "figure, axes = plt.subplots()\n",
        "axes.set_xscale('log')\n",
        "plt.scatter(C_range,num_sv)\n",
        "plt.xlabel(\"log(C)\")\n",
        "plt.ylabel(\"number of support vectors\")\n",
        "plt.show()\n",
        "\n"
      ],
      "execution_count": 158,
      "outputs": [
        {
          "output_type": "display_data",
          "data": {
            "image/png": "[encoded data removed]",
            "text/plain": [
              "<Figure size 432x288 with 1 Axes>"
            ]
          },
          "metadata": {
            "needs_background": "light"
          }
        },
        {
          "output_type": "display_data",
          "data": {
            "image/png": "[encoded data removed]",
            "text/plain": [
              "<Figure size 432x288 with 1 Axes>"
            ]
          },
          "metadata": {
            "needs_background": "light"
          }
        }
      ]
    },
    {
      "cell_type": "markdown",
      "metadata": {
        "id": "PBLfyaw3zJ_a"
      },
      "source": [
        "### 3.1.4 \n",
        "Now try rescaling the data to the [0,1] range and repeat the steps of the previous question (3.1.3) and over the same range of $C$ values. Are the decision boundaries different from those in the previous question? What does this imply about (a) the geometric margin and (b) the relative effect of each feature on the predictions of the trained model ?"
      ]
    },
    {
      "cell_type": "markdown",
      "metadata": {
        "id": "NM3PvMHbzJ_b"
      },
      "source": [
        "#### Solution below: \n",
        "SVM tries to maximize the distance between the separating plane and the support vectors. \n",
        "If one feature (i.e. one dimension in this space) has very large values, \n",
        "it will dominate the other features when calculating the distance. If you rescale all \n",
        "features (e.g. to [0, 1]), they all have the same influence on the distance metric.\n",
        "\n"
      ]
    },
    {
      "cell_type": "code",
      "metadata": {
        "ExecuteTime": {
          "end_time": "2020-09-05T07:06:49.729412Z",
          "start_time": "2020-09-05T07:06:49.223419Z"
        },
        "id": "--Mwyl09zJ_b"
      },
      "source": [
        "import sklearn\n",
        "from sklearn import preprocessing\n",
        "min_max_scaler = preprocessing.MinMaxScaler()\n",
        "\n",
        "# Single line below:\n",
        "min_max_scaler.fit(X)\n",
        "X_train_minmax = min_max_scaler.transform(X)"
      ],
      "execution_count": 233,
      "outputs": []
    },
    {
      "cell_type": "code",
      "metadata": {
        "ExecuteTime": {
          "end_time": "2020-09-05T07:06:50.906854Z",
          "start_time": "2020-09-05T07:06:50.047333Z"
        },
        "id": "I6G8ZlzBzJ_c",
        "colab": {
          "base_uri": "https://localhost:8080/",
          "height": 670
        },
        "outputId": "d107648e-9cb8-492b-9d8f-3d5692d2597a"
      },
      "source": [
        "\n",
        "C_range = [10**-5, 10**-3, 1, 10, 100, 10**3, 10**5, 10**7]\n",
        "num_sv = []\n",
        "\n",
        "# Initialize Plot with data points\n",
        "figure, axes = plt.subplots()\n",
        "plt.scatter([i[0] for i in X_train_minmax[:50]],[i[1] for i in X_train_minmax[:50]], color='red')\n",
        "plt.scatter([i[0] for i in X_train_minmax[50:]],[i[1] for i in X_train_minmax[50:]], color='blue')\n",
        "\n",
        "# Define the SVM problem\n",
        "p = svm_problem(Y, X_train_minmax)\n",
        "\n",
        "# Repeat the loop from 3.1.3\n",
        "# Loop over a similar setup to that in the previous code block.\n",
        "for C in C_range:\n",
        "  # Define the hyperparameters\n",
        "  h = svm_parameter(f'-s 0 -t 0 -c {C} ')\n",
        "\n",
        "  # Train the model\n",
        "  m = svm_train(p,h)\n",
        "\n",
        "  # Get Information about Model\n",
        "  svs = m.get_SV()\n",
        "  print(f\"C:{C} | len(svs):{len(svs)}\")\n",
        "  w = np.matmul(X_train_minmax[np.array(m.get_sv_indices()) - 1].T, m.get_sv_coef())\n",
        "  b = -m.rho.contents.value\n",
        "\n",
        "  slope = -w[0]/w[1] \n",
        "  intercept = -b/w[1]\n",
        "  lx = np.linspace(-0,1)\n",
        "  ly = slope*lx + intercept\n",
        "\n",
        "  # Draw the scatter plot with multiple decision lines on top (one for each value of C)\n",
        "  plt.plot(lx,ly,'k-')\n",
        "  plt.axis('equal')\n",
        "\n",
        "  #indicate support vectors\n",
        "  num_sv.append(len(svs))\n",
        "\n",
        "plt.show()\n",
        "\n",
        "# Draw the num_sv vs. C plot.\n",
        "\n",
        "figure, axes = plt.subplots()\n",
        "axes.set_xscale('log')\n",
        "plt.scatter(C_range,num_sv)\n",
        "plt.xlabel(\"log(C)\")\n",
        "plt.ylabel(\"number of support vectors\")\n",
        "plt.show()\n"
      ],
      "execution_count": 234,
      "outputs": [
        {
          "output_type": "stream",
          "name": "stdout",
          "text": [
            "C:1e-05 | len(svs):100\n",
            "C:0.001 | len(svs):100\n",
            "C:1 | len(svs):20\n",
            "C:10 | len(svs):6\n",
            "C:100 | len(svs):3\n",
            "C:1000 | len(svs):3\n",
            "C:100000 | len(svs):3\n",
            "C:10000000 | len(svs):3\n"
          ]
        },
        {
          "output_type": "display_data",
          "data": {
            "image/png": "[encoded data removed]",
            "text/plain": [
              "<Figure size 432x288 with 1 Axes>"
            ]
          },
          "metadata": {
            "needs_background": "light"
          }
        },
        {
          "output_type": "display_data",
          "data": {
            "image/png": "[encoded data removed]",
            "text/plain": [
              "<Figure size 432x288 with 1 Axes>"
            ]
          },
          "metadata": {
            "needs_background": "light"
          }
        }
      ]
    },
    {
      "cell_type": "markdown",
      "metadata": {
        "id": "DHF7C4QZc4fu"
      },
      "source": [
        "The decision boundaries are different than those in the previous question, as there is more variation in the slope of these decision boundaries, with steeper slopes occuring in the scaled version. This implies that the geometric margin is biased by outliers in the data, and the functional margin gives a more accurate picture of the relationship. This means that the scaled version gives more equitable impact to all features on the prediction."
      ]
    },
    {
      "cell_type": "code",
      "metadata": {
        "id": "P6vfHgaZf2o4"
      },
      "source": [
        ""
      ],
      "execution_count": null,
      "outputs": []
    },
    {
      "cell_type": "markdown",
      "metadata": {
        "ExecuteTime": {
          "end_time": "2016-12-16T00:41:47.969602",
          "start_time": "2016-12-16T00:41:47.965010"
        },
        "id": "0JKQb2MrvtMS"
      },
      "source": [
        "## *Penguins*"
      ]
    },
    {
      "cell_type": "markdown",
      "metadata": {
        "collapsed": true,
        "id": "e1LsTwlTvtMS"
      },
      "source": [
        "\n",
        "\n",
        "```\n",
        "# This is formatted as code\n",
        "```\n",
        "\n",
        "Multiclass SVM. In this problem, we will use support vector machines to classify penguins species based on the given features."
      ]
    },
    {
      "cell_type": "markdown",
      "metadata": {
        "id": "lUI6GKVbvtMT"
      },
      "source": [
        "### \n",
        "Load in the penguins data using from the provided penguins.csv file on Sakai. Preprocess the features. Then we will use the train_test_split from sklearn to split the data into training and testing into a 0.8 : 0.2 ratio."
      ]
    },
    {
      "cell_type": "code",
      "metadata": {
        "ExecuteTime": {
          "end_time": "2020-09-05T07:38:45.869430Z",
          "start_time": "2020-09-05T07:38:17.208394Z"
        },
        "scrolled": true,
        "id": "Ru6-AWdcvtMT"
      },
      "source": [
        "from sklearn.model_selection import train_test_split\n",
        "import pandas as pd\n",
        "# load data\n",
        "import io\n",
        "df = pd.read_csv(io.BytesIO(uploaded['penguins.csv']))\n",
        "\n",
        "if debug_mode: print(df.info())\n",
        "\n",
        "# split data\n",
        "X_train, X_test, y_train, y_test = train_test_split(df.drop(['Species'], axis=1).to_numpy(), df['Species'].to_numpy(), test_size=0.2, random_state=1)\n"
      ],
      "execution_count": 235,
      "outputs": []
    },
    {
      "cell_type": "markdown",
      "metadata": {
        "id": "Z59e1R49vtMV"
      },
      "source": [
        "Train the support vector machine classifier with a linear kernel on the first 5000 datapoints and test the accuracy on the following 5000 points.\n",
        "Plot test accuracy and the number of support vectors (two separate plots) vs. $C$ for $C=10^{-12}$~$10^{12}$ (plot 7 points or more with the x-axis on a log scale). "
      ]
    },
    {
      "cell_type": "code",
      "metadata": {
        "ExecuteTime": {
          "end_time": "2020-09-05T08:13:41.585732Z",
          "start_time": "2020-09-05T08:10:29.068046Z"
        },
        "id": "fKrQANMuvtMV",
        "colab": {
          "base_uri": "https://localhost:8080/",
          "height": 867
        },
        "outputId": "e91fb37e-5b96-432e-ff41-bc07a7e2d10e"
      },
      "source": [
        "C_range = [10**-12, 10**-7, 10**-3, 1, 10**3, 10**7, 10**12]\n",
        "\n",
        "num_sv = []\n",
        "test_accuracy = []\n",
        "\n",
        "# Define the SVM problem\n",
        "p = svm_problem(y_train, X_train)\n",
        "\n",
        "# Repeat the loop from 3.1.3\n",
        "# Loop over a similar setup to that in the previous code block.\n",
        "for C in C_range:\n",
        "  # Define the hyperparameters\n",
        "  h = svm_parameter(f'-s 0 -t 0 -c {C} ')\n",
        "\n",
        "  # Train the model\n",
        "  m = svm_train(p,h)\n",
        "\n",
        "  # Get Information about Model\n",
        "  svs = m.get_SV()\n",
        "  print(f\"C:{C} | len(svs):{len(svs)}\")\n",
        "\n",
        "  # Run test\n",
        "  p_labels, p_acc, p_vals = svm_predict(y_train, X_train, m)\n",
        "\n",
        "  # record support vectors & test_accuracy\n",
        "  num_sv.append(len(svs))\n",
        "  test_accuracy.append(p_acc[0])\n",
        "\n",
        "\n",
        "# Draw plots.\n",
        "if debug_mode:\n",
        "  print(\"test accuracies: \", test_accuracy)\n",
        "  print(\"num_sv: \", num_sv)\n",
        "  print(\"C_range: \", C_range)\n",
        "\n",
        "figure, axes = plt.subplots()\n",
        "axes.set_xscale('log')\n",
        "plt.scatter(C_range,num_sv)\n",
        "plt.xlabel(\"log(C)\")\n",
        "plt.ylabel(\"number of support vectors\")\n",
        "plt.show()\n",
        "\n",
        "figure, axes = plt.subplots()\n",
        "axes.set_xscale('log')\n",
        "plt.scatter(C_range,test_accuracy)\n",
        "plt.xlabel(\"log(C)\")\n",
        "plt.ylabel(\"test accuracy\")\n",
        "plt.show()\n"
      ],
      "execution_count": 198,
      "outputs": [
        {
          "output_type": "stream",
          "name": "stdout",
          "text": [
            "C:1e-12 | len(svs):159\n",
            "Accuracy = 37.4545% (103/275) (classification)\n",
            "C:1e-07 | len(svs):164\n",
            "Accuracy = 37.4545% (103/275) (classification)\n",
            "C:0.001 | len(svs):100\n",
            "Accuracy = 94.5455% (260/275) (classification)\n",
            "C:1 | len(svs):14\n",
            "Accuracy = 97.4545% (268/275) (classification)\n",
            "C:1000 | len(svs):11\n",
            "Accuracy = 97.4545% (268/275) (classification)\n",
            "C:10000000 | len(svs):11\n",
            "Accuracy = 97.4545% (268/275) (classification)\n",
            "C:1000000000000 | len(svs):10\n",
            "Accuracy = 97.4545% (268/275) (classification)\n",
            "test accuracies:  [37.45454545454546, 37.45454545454546, 94.54545454545455, 97.45454545454545, 97.45454545454545, 97.45454545454545, 97.45454545454545]\n",
            "num_sv:  [159, 164, 100, 14, 11, 11, 10]\n",
            "C_range:  [1e-12, 1e-07, 0.001, 1, 1000, 10000000, 1000000000000]\n"
          ]
        },
        {
          "output_type": "display_data",
          "data": {
            "image/png": "[encoded data removed]",
            "text/plain": [
              "<Figure size 432x288 with 1 Axes>"
            ]
          },
          "metadata": {
            "needs_background": "light"
          }
        },
        {
          "output_type": "display_data",
          "data": {
            "image/png": "[encoded data removed]",
            "text/plain": [
              "<Figure size 432x288 with 1 Axes>"
            ]
          },
          "metadata": {
            "needs_background": "light"
          }
        }
      ]
    },
    {
      "cell_type": "markdown",
      "metadata": {
        "id": "vTMBnAeKurqK"
      },
      "source": [
        "Calculate variable importance (CulmenLength, CulmenDepth, FlipperLength, BodyMass) with your classifier. Rank these variables/ features from most important to the least important. Utilize three strategies covered in the class:\n",
        "* model reliance\n",
        "* conditional model reliance\n",
        "* algorithm reliance\n",
        "\n",
        "Do all three give the same result?\n"
      ]
    },
    {
      "cell_type": "code",
      "metadata": {
        "id": "ibxrBChtusYM",
        "colab": {
          "base_uri": "https://localhost:8080/"
        },
        "outputId": "3c7627e2-12d2-485d-c179-1977615dbb72"
      },
      "source": [
        "# Model Reliance\n",
        "\n",
        "# shuffle feature values\n",
        "X = df.drop(['Species'], axis=1).copy()\n",
        "Y = df['Species'].copy()\n",
        "\n",
        "MRdiff = []\n",
        "MRratio = []\n",
        "baseline_loss = 1 - test_accuracy[3]/100 # C=1 accuracy without variable scrambling\n",
        "print(\"baseline_loss:\",baseline_loss)\n",
        "\n",
        "for col in X.columns:\n",
        "  X_mod = X.copy()\n",
        "  X_mod[col] = np.random.permutation(X[col])\n",
        "\n",
        "  X_train, X_test, y_train, y_test = train_test_split(\n",
        "      X_mod.to_numpy(),\n",
        "       Y.to_numpy(),\n",
        "        test_size=0.2,\n",
        "         random_state=1\n",
        "         )\n",
        "  \n",
        "  # Define the SVM problem\n",
        "  p = svm_problem(y_train, X_train)\n",
        "\n",
        "  # Define the hyperparameters\n",
        "  h = svm_parameter('-s 0 -t 0 -c 1 ')\n",
        "\n",
        "  # Train the model\n",
        "  m = svm_train(p,h)\n",
        "\n",
        "  # Get Information about Model\n",
        "  svs = m.get_SV()\n",
        "\n",
        "  # Run test\n",
        "  p_labels, p_acc, p_vals = svm_predict(y_train, X_train, m)\n",
        "\n",
        "  # using p_acc as loss\n",
        "  loss = 1 - p_acc[0]/100\n",
        "  MRdiff.append(loss - baseline_loss)\n",
        "  MRratio.append(loss / baseline_loss)\n",
        "print(\"\\nModel Reliance Diffs and Ratios:\")\n",
        "pprint(list(zip(X.columns,MRdiff,MRratio)))\n"
      ],
      "execution_count": 211,
      "outputs": [
        {
          "output_type": "stream",
          "name": "stdout",
          "text": [
            "baseline_loss: 0.025454545454545507\n",
            "Accuracy = 19.2727% (53/275) (classification)\n",
            "Accuracy = 65.0909% (179/275) (classification)\n",
            "Accuracy = 87.2727% (240/275) (classification)\n",
            "Accuracy = 19.2727% (53/275) (classification)\n",
            "\n",
            "Model Reliance Diffs and Ratios:\n",
            "[('CulmenLength', 0.7818181818181817, 31.714285714285648),\n",
            " ('CulmenDepth', 0.3236363636363636, 13.714285714285687),\n",
            " ('FlipperLength', 0.10181818181818181, 4.999999999999991),\n",
            " ('BodyMass', 0.7818181818181817, 31.714285714285648)]\n"
          ]
        }
      ]
    },
    {
      "cell_type": "code",
      "metadata": {
        "colab": {
          "base_uri": "https://localhost:8080/"
        },
        "id": "eqr55nSl3Rmc",
        "outputId": "dcf29d6f-981f-4fb7-d031-98c8689f095b"
      },
      "source": [
        "# Contitional Model Reliance \n",
        "\n",
        "\n",
        "from sklearn.kernel_ridge import KernelRidge # using sklearns KernelRidge\n",
        "\n",
        "# get baseline\n",
        "baseline = []\n",
        "new_df = df.drop(['Species'], axis=1).dropna().copy()\n",
        "for col in new_df.columns:\n",
        "  X = new_df.drop([col], axis=1).copy()\n",
        "  Y = new_df[col].copy()\n",
        "\n",
        "  X_train, X_test, y_train, y_test = train_test_split(\n",
        "        X.to_numpy(),\n",
        "        Y.to_numpy(),\n",
        "          test_size=0.2,\n",
        "          random_state=1\n",
        "          )\n",
        "\n",
        "  # get baseline\n",
        "  clf = KernelRidge(alpha=1.0)\n",
        "  clf.fit(X_train, y_train)\n",
        "  baseline.append(clf.score(X_test,y_test))\n",
        "\n",
        "CMRratio = []\n",
        "# scramble each column and get score\n",
        "for i, col in enumerate(new_df.columns):\n",
        "  X = new_df.drop([col], axis=1).copy()\n",
        "  Y = new_df[col].copy()\n",
        "  Y_mod = Y.copy()\n",
        "  Y_mod = np.random.permutation(Y_mod)\n",
        "\n",
        "  X_train, X_test, y_train, y_test = train_test_split(\n",
        "        X.to_numpy(),\n",
        "        Y_mod,\n",
        "          test_size=0.2,\n",
        "          random_state=1\n",
        "          )\n",
        "\n",
        "  # create model and get score\n",
        "  clf = KernelRidge(alpha=1.0)\n",
        "  clf.fit(X_train, y_train)\n",
        "  CMRratio.append(clf.score(X_test,y_test)/baseline[i])\n",
        "\n",
        "\n",
        "print(\"\\nConditional Model Reliance Ratios:\")\n",
        "pprint(list(zip(new_df.columns,CMRratio)))\n",
        "\n",
        "\n"
      ],
      "execution_count": 228,
      "outputs": [
        {
          "output_type": "stream",
          "name": "stdout",
          "text": [
            "\n",
            "Conditional Model Reliance Ratios:\n",
            "[('CulmenLength', -0.49916993598076004),\n",
            " ('CulmenDepth', 0.3612962511913667),\n",
            " ('FlipperLength', 30.191864150680807),\n",
            " ('BodyMass', -0.1621143017752591)]\n"
          ]
        }
      ]
    },
    {
      "cell_type": "code",
      "metadata": {
        "colab": {
          "base_uri": "https://localhost:8080/"
        },
        "id": "4k9UNpxb-hI8",
        "outputId": "d9367bd0-9b27-4a57-9432-c8a7afebb602"
      },
      "source": [
        "# Algorithm Reliance\n",
        "\n",
        "# drop each variable one by one and see how it affects algorithm accuracy\n",
        "\n",
        "X = df.drop(['Species'], axis=1).copy()\n",
        "Y = df['Species'].copy()\n",
        "\n",
        "ARdiff = []\n",
        "ARratio = []\n",
        "baseline_loss = 1 - test_accuracy[3]/100 # C=1 accuracy without variable scrambling\n",
        "print(\"baseline_loss:\",baseline_loss)\n",
        "\n",
        "for col in X.columns:\n",
        "  X_mod = X.drop([col], axis=1).copy()\n",
        "\n",
        "  X_train, X_test, y_train, y_test = train_test_split(\n",
        "      X_mod.to_numpy(),\n",
        "       Y.to_numpy(),\n",
        "        test_size=0.2,\n",
        "         random_state=1\n",
        "         )\n",
        "  \n",
        "  # Define the SVM problem\n",
        "  p = svm_problem(y_train, X_train)\n",
        "\n",
        "  # Define the hyperparameters\n",
        "  h = svm_parameter('-s 0 -t 0 -c 1 ')\n",
        "\n",
        "  # Train the model\n",
        "  m = svm_train(p,h)\n",
        "\n",
        "  # Get Information about Model\n",
        "  svs = m.get_SV()\n",
        "\n",
        "  # Run test\n",
        "  p_labels, p_acc, p_vals = svm_predict(y_train, X_train, m)\n",
        "\n",
        "  # using p_acc as loss\n",
        "  loss = 1 - p_acc[0]/100\n",
        "  ARdiff.append(loss - baseline_loss)\n",
        "  ARratio.append(loss / baseline_loss)\n",
        "print(\"\\nAlgorithm Reliance Diffs and Ratios:\")\n",
        "pprint(list(zip(X.columns,ARdiff,ARratio)))\n"
      ],
      "execution_count": 229,
      "outputs": [
        {
          "output_type": "stream",
          "name": "stdout",
          "text": [
            "baseline_loss: 0.025454545454545507\n",
            "Accuracy = 82.9091% (228/275) (classification)\n",
            "Accuracy = 68.3636% (188/275) (classification)\n",
            "Accuracy = 79.2727% (218/275) (classification)\n",
            "Accuracy = 98.5455% (271/275) (classification)\n",
            "\n",
            "Algorithm Reliance Diffs and Ratios:\n",
            "[('CulmenLength', 0.1454545454545454, 6.7142857142857),\n",
            " ('CulmenDepth', 0.2909090909090909, 12.428571428571404),\n",
            " ('FlipperLength', 0.18181818181818188, 8.14285714285713),\n",
            " ('BodyMass', -0.01090909090909098, 0.5714285714285695)]\n"
          ]
        }
      ]
    },
    {
      "cell_type": "markdown",
      "metadata": {
        "id": "cTMmgj6I_P6i"
      },
      "source": [
        "No, all 3 metrics do not give the same result. For Model Reliance, we see that the errors for 'CulmenLength' and 'BodyMass' went up signifigantly when those variables were scrambled, indicating that they are important for the model. For Conditional Model Reliance, we see that 'FlipperLength' provides the most unique information that can't be found from other features. And, in Algorithm Reliance, we see that 'CulmenDepth' is the feature that the Algorithm depends on most to perform well. So each of these measures gives us a different insight into how important certain variables are for the model, and algorithm."
      ]
    }
  ]
}